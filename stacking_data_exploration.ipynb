{
 "cells": [
  {
   "cell_type": "code",
   "execution_count": null,
   "metadata": {},
   "outputs": [],
   "source": [
    "%matplotlib inline\n",
    "\n",
    "import numpy as np\n",
    "import pandas as pd\n",
    "import glob\n",
    "import matplotlib.pyplot as plt\n",
    "from sklearn.externals import joblib\n",
    "import ipywidgets as ipy\n",
    "\n",
    "from common_blocks.utils import plot_list, load_image\n",
    "\n",
    "METADATA_FILEPATH = 'YOUR/metadata.csv'\n",
    "METADATA_FILEPATH = '/mnt/ml-team/minerva/open-solutions/salt/files/metadata.csv'\n",
    "\n",
    "STACKING_DATA_DIRPATH = 'YOUR/stacking_data/predictions_by_id'\n",
    "STACKING_DATA_DIRPATH = '/mnt/ml-team/minerva/open-solutions/salt/files/stacking_data/predictions_by_id'"
   ]
  },
  {
   "cell_type": "code",
   "execution_count": null,
   "metadata": {},
   "outputs": [],
   "source": [
    "metadata = pd.read_csv(METADATA_FILEPATH)"
   ]
  },
  {
   "cell_type": "code",
   "execution_count": null,
   "metadata": {},
   "outputs": [],
   "source": [
    "metadata.head()"
   ]
  },
  {
   "cell_type": "markdown",
   "metadata": {},
   "source": [
    "# Predicted mask exploration"
   ]
  },
  {
   "cell_type": "code",
   "execution_count": null,
   "metadata": {
    "scrolled": false
   },
   "outputs": [],
   "source": [
    "idx_dirpaths = glob.glob('{}/*'.format(STACKING_DATA_DIRPATH))\n",
    "\n",
    "@ipy.interact(idx=ipy.IntSlider(min=0,max=len(idx_dirpaths)-1, value=0, step=1))\n",
    "def present(idx):\n",
    "    id_data = idx_dirpaths[idx].split('/')[-1]\n",
    "    row = metadata[metadata['id']==id_data]    \n",
    "    image = load_image(row.file_path_image.values[0])\n",
    "    mask = load_image(row.file_path_mask.values[0],is_mask=True)\n",
    "    predictions=[]\n",
    "    for filepath in glob.glob('{}/*'.format(idx_dirpaths[idx])):\n",
    "        predictions.append(joblib.load(filepath))\n",
    "    \n",
    "    l1 = predictions[:5] + [image]\n",
    "    plot_list(images=l1)\n",
    "    plot_list(images=predictions[5:],labels=[mask])"
   ]
  },
  {
   "cell_type": "code",
   "execution_count": null,
   "metadata": {},
   "outputs": [],
   "source": []
  }
 ],
 "metadata": {
  "kernelspec": {
   "display_name": "dl_py3",
   "language": "python",
   "name": "dl_py3"
  },
  "language_info": {
   "codemirror_mode": {
    "name": "ipython",
    "version": 3
   },
   "file_extension": ".py",
   "mimetype": "text/x-python",
   "name": "python",
   "nbconvert_exporter": "python",
   "pygments_lexer": "ipython3",
   "version": "3.5.2"
  }
 },
 "nbformat": 4,
 "nbformat_minor": 2
}
